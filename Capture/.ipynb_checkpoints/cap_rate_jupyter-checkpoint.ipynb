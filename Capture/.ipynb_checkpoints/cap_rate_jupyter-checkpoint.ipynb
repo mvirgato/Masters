{
 "cells": [
  {
   "cell_type": "code",
   "execution_count": 1,
   "metadata": {},
   "outputs": [],
   "source": [
    "import numpy as np\n",
    "from scipy import constants as cnts\n",
    "from scipy import integrate\n",
    "from scipy import special\n",
    "import matplotlib.pyplot as plt\n",
    "\n",
    "'''\n",
    "GLOBAL CONSTANTS\n",
    "'''\n",
    "\n",
    "w = escape_vel = np.sqrt( (2 * cnts.G * 1.4 * 2e30) / 1e3 )\n",
    "\n",
    "temp = (1e3/ 1.16e4) *1e-9\n",
    "\n",
    "therm_time = (1e10 * 3.145e7 * 1e9) / 6.58e-16\n",
    "\n",
    "nm = 0.939\n",
    "\n",
    "fermi_energy = 0.085\n",
    "\n",
    "vd = 270e3\n",
    "\n",
    "vs = 200e3\n",
    "\n"
   ]
  },
  {
   "cell_type": "code",
   "execution_count": 2,
   "metadata": {},
   "outputs": [],
   "source": [
    "'''\n",
    "SET  UP FUNCTIONS\n",
    "'''\n",
    "\n",
    "def mu(dm):\n",
    "    return dm/nm\n",
    "\n",
    "def muplus(dm):\n",
    "    return (1 + mu(dm)) / 2\n",
    "\n",
    "def init_vel_sqr(s, t, dm):\n",
    "    return (2 * mu(dm) * muplus(dm) * t**2 + 2* muplus(dm) * s**2 - mu(dm) * w**2) / cnts.speed_of_light**2\n",
    "\n",
    "def final_vel_sqr(s, t, v, dm):\n",
    "    return (2 * mu(dm) * muplus(dm) * t**2 + 2* muplus(dm) * s**2 - mu(dm) * v**2) / cnts.speed_of_light**2\n",
    "\n",
    "def init_energy(s, t, dm):\n",
    "    return 0.5 * nm * init_vel_sqr(s, t, dm)\n",
    "\n",
    "def final_energy(s,t,v,dm):\n",
    "    return 0.5 * nm * final_vel_sqr(s,t,v,dm)\n",
    "\n"
   ]
  },
  {
   "cell_type": "code",
<<<<<<< HEAD
   "execution_count": 4,
=======
   "execution_count": 3,
>>>>>>> f598797cd272974c21ee3b9ddc73d23aaaa4e038
   "metadata": {},
   "outputs": [],
   "source": [
    "'''\n",
    "DISTRIBUTION FUNCTIONS\n",
    "'''\n",
    "def init_FD(s, t, dm):\n",
    "    return special.expit(-(init_energy(s, t, dm) - fermi_energy) / temp)\n",
    "\n",
    "def final_FD(s, t, v, dm):\n",
    "    return 1 - special.expit(-(final_energy(s, t, v, dm) - fermi_energy) / temp)\n",
    "\n",
<<<<<<< HEAD
    "def MB_dist(f):\n",
    "    return np.exp(-init_vel_sqr(s, t, dm))"
=======
    "\n",
    "    \n",
    "\n"
>>>>>>> f598797cd272974c21ee3b9ddc73d23aaaa4e038
   ]
  },
  {
   "cell_type": "code",
<<<<<<< HEAD
   "execution_count": 5,
   "metadata": {},
   "outputs": [
    {
     "ename": "NameError",
     "evalue": "name 's' is not defined",
     "output_type": "error",
     "traceback": [
      "\u001b[1;31m---------------------------------------------------------------------------\u001b[0m",
      "\u001b[1;31mNameError\u001b[0m                                 Traceback (most recent call last)",
      "\u001b[1;32m<ipython-input-5-a77f917b8059>\u001b[0m in \u001b[0;36m<module>\u001b[1;34m\u001b[0m\n\u001b[1;32m----> 1\u001b[1;33m \u001b[0mMB_dist\u001b[0m\u001b[1;33m(\u001b[0m\u001b[0minit_vel_sqr\u001b[0m\u001b[1;33m)\u001b[0m\u001b[1;33m\u001b[0m\u001b[1;33m\u001b[0m\u001b[0m\n\u001b[0m",
      "\u001b[1;32m<ipython-input-4-4d3edfd1db92>\u001b[0m in \u001b[0;36mMB_dist\u001b[1;34m(f)\u001b[0m\n\u001b[0;32m      9\u001b[0m \u001b[1;33m\u001b[0m\u001b[0m\n\u001b[0;32m     10\u001b[0m \u001b[1;32mdef\u001b[0m \u001b[0mMB_dist\u001b[0m\u001b[1;33m(\u001b[0m\u001b[0mf\u001b[0m\u001b[1;33m)\u001b[0m\u001b[1;33m:\u001b[0m\u001b[1;33m\u001b[0m\u001b[1;33m\u001b[0m\u001b[0m\n\u001b[1;32m---> 11\u001b[1;33m     \u001b[1;32mreturn\u001b[0m \u001b[0mnp\u001b[0m\u001b[1;33m.\u001b[0m\u001b[0mexp\u001b[0m\u001b[1;33m(\u001b[0m\u001b[1;33m-\u001b[0m\u001b[0minit_vel_sqr\u001b[0m\u001b[1;33m(\u001b[0m\u001b[0ms\u001b[0m\u001b[1;33m,\u001b[0m \u001b[0mt\u001b[0m\u001b[1;33m,\u001b[0m \u001b[0mdm\u001b[0m\u001b[1;33m)\u001b[0m\u001b[1;33m)\u001b[0m\u001b[1;33m\u001b[0m\u001b[1;33m\u001b[0m\u001b[0m\n\u001b[0m",
      "\u001b[1;31mNameError\u001b[0m: name 's' is not defined"
     ]
    }
   ],
   "source": [
    "MB_dist(init_vel_sqr)"
   ]
  },
  {
   "cell_type": "code",
   "execution_count": 121,
=======
   "execution_count": 4,
   "metadata": {},
   "outputs": [
    {
     "data": {
      "text/plain": [
       "0.06500083307746965"
      ]
     },
     "execution_count": 4,
     "metadata": {},
     "output_type": "execute_result"
    }
   ],
   "source": []
  },
  {
   "cell_type": "code",
   "execution_count": 30,
>>>>>>> f598797cd272974c21ee3b9ddc73d23aaaa4e038
   "metadata": {},
   "outputs": [],
   "source": [
    "'''\n",
    "TRIG FUNCTIONS\n",
    "'''\n",
    "def incoming_cos(s, t):\n",
    "    return (w**2 - s**2 -t**2 ) / (2 * s * t)\n",
    "\n",
    "def outgoing_cos(s, t, v):\n",
    "    return (v**2 - s**2 -t**2 ) / (2 * s * t)\n",
    "\n",
    "'''\n",
    "STEP FUNCTIONS\n",
    "'''\n",
    "def incoming_step(s, t):\n",
    "    if abs(incoming_cos(s, t)) > 1:\n",
    "        return 0\n",
    "    elif abs(incoming_cos(s, t)) <= 1:\n",
    "        return 1\n",
    "\n",
    "def outgoing_step(s, t, v):\n",
    "    if abs(outgoing_cos(s, t, v)) > 1:\n",
    "        return 0\n",
    "    elif abs(outgoing_cos(s, t, v)) <= 1:\n",
    "        return 1\n",
    "\n",
    "def heaviside_product(s, t, v):\n",
    "    return incoming_step(s, t) * outgoing_step(s, t, v)\n",
    "\n",
    "\n"
   ]
  },
  {
   "cell_type": "code",
<<<<<<< HEAD
   "execution_count": 122,
=======
   "execution_count": 31,
>>>>>>> f598797cd272974c21ee3b9ddc73d23aaaa4e038
   "metadata": {},
   "outputs": [
    {
     "data": {
      "text/plain": [
<<<<<<< HEAD
       "8.620689655172415e-11"
      ]
     },
     "execution_count": 122,
=======
       "1"
      ]
     },
     "execution_count": 31,
>>>>>>> f598797cd272974c21ee3b9ddc73d23aaaa4e038
     "metadata": {},
     "output_type": "execute_result"
    }
   ],
   "source": [
<<<<<<< HEAD
    "temp"
=======
    "incoming_step(w,1)"
>>>>>>> f598797cd272974c21ee3b9ddc73d23aaaa4e038
   ]
  },
  {
   "cell_type": "code",
<<<<<<< HEAD
   "execution_count": 123,
=======
   "execution_count": 90,
>>>>>>> f598797cd272974c21ee3b9ddc73d23aaaa4e038
   "metadata": {},
   "outputs": [],
   "source": [
    "'''\n",
    "INTEGRAND\n",
    "'''\n",
<<<<<<< HEAD
    "def integrand(s, t, v, dm):\n",
=======
    "def integrand(t, s, v, dm):\n",
>>>>>>> f598797cd272974c21ee3b9ddc73d23aaaa4e038
    "    return v * t * heaviside_product(s, t, v) * init_FD(s, t, dm) * final_FD(s, t, v, dm)\n",
    "\n",
    "\n",
    "'''\n",
    "MAIN\n",
    "'''\n",
<<<<<<< HEAD
    "def cap_rate_integral(x):\n",
    "    res, err = integrate.tplquad(integrand, 0, np.inf, 0, np.inf, 0, w, args = [x])\n",
=======
    "\n",
    "def t_bounds(s, v, dm):\n",
    "    return [w - s, v + s]\n",
    "\n",
    "def s_bounds(v, dm):\n",
    "    return [0.5 * (w - v), 0.5 * (w + v)]\n",
    "\n",
    "def v_bounds(dm):\n",
    "    return [0, w]\n",
    "\n",
    "def cap_rate_integral(dm):\n",
    "    res, err = integrate.nquad(integrand, [t_bounds, s_bounds , v_bounds ], args = [dm])\n",
>>>>>>> f598797cd272974c21ee3b9ddc73d23aaaa4e038
    "    return res\n",
    "\n",
    "\n",
    "def cap_plot():\n",
    "    mass_range = np.logspace(-6, 6, 1000)\n",
    "    dist1 = np.empty(0)\n",
    "\n",
    "    for x in mass_range:\n",
    "        dummy1 = cap_rate_integral(x)\n",
    "        dist1 = np.append(dist1, dummy1)\n",
    "\n",
    "\n",
    "    fig, ax1 = plt.subplots()\n",
    "    ax1.plot(mass_range, dist1)\n",
    "    #ax1.set_xscale('log')\n",
    "    plt.show()\n",
    "\n",
    "\n",
    "\n",
    "\n"
   ]
  },
  {
   "cell_type": "code",
<<<<<<< HEAD
   "execution_count": 125,
   "metadata": {},
   "outputs": [
    {
     "data": {
      "image/png": "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\n",
      "text/plain": [
       "<Figure size 432x288 with 1 Axes>"
      ]
     },
     "metadata": {
      "needs_background": "light"
     },
     "output_type": "display_data"
    }
   ],
   "source": [
    "cap_plot()"
=======
   "execution_count": 91,
   "metadata": {},
   "outputs": [
    {
     "ename": "KeyboardInterrupt",
     "evalue": "",
     "output_type": "error",
     "traceback": [
      "\u001b[1;31m---------------------------------------------------------------------------\u001b[0m",
      "\u001b[1;31mKeyboardInterrupt\u001b[0m                         Traceback (most recent call last)",
      "\u001b[1;32m<ipython-input-91-d68a859e9048>\u001b[0m in \u001b[0;36m<module>\u001b[1;34m\u001b[0m\n\u001b[1;32m----> 1\u001b[1;33m \u001b[0mcap_rate_integral\u001b[0m\u001b[1;33m(\u001b[0m\u001b[1;36m1\u001b[0m\u001b[1;33m)\u001b[0m\u001b[1;33m\u001b[0m\u001b[0m\n\u001b[0m",
      "\u001b[1;32m<ipython-input-90-3572883baa74>\u001b[0m in \u001b[0;36mcap_rate_integral\u001b[1;34m(dm)\u001b[0m\n\u001b[0;32m     20\u001b[0m \u001b[1;33m\u001b[0m\u001b[0m\n\u001b[0;32m     21\u001b[0m \u001b[1;32mdef\u001b[0m \u001b[0mcap_rate_integral\u001b[0m\u001b[1;33m(\u001b[0m\u001b[0mdm\u001b[0m\u001b[1;33m)\u001b[0m\u001b[1;33m:\u001b[0m\u001b[1;33m\u001b[0m\u001b[0m\n\u001b[1;32m---> 22\u001b[1;33m     \u001b[0mres\u001b[0m\u001b[1;33m,\u001b[0m \u001b[0merr\u001b[0m \u001b[1;33m=\u001b[0m \u001b[0mintegrate\u001b[0m\u001b[1;33m.\u001b[0m\u001b[0mnquad\u001b[0m\u001b[1;33m(\u001b[0m\u001b[0mintegrand\u001b[0m\u001b[1;33m,\u001b[0m \u001b[1;33m[\u001b[0m\u001b[0mt_bounds\u001b[0m\u001b[1;33m,\u001b[0m \u001b[0ms_bounds\u001b[0m \u001b[1;33m,\u001b[0m \u001b[0mv_bounds\u001b[0m \u001b[1;33m]\u001b[0m\u001b[1;33m,\u001b[0m \u001b[0margs\u001b[0m \u001b[1;33m=\u001b[0m \u001b[1;33m[\u001b[0m\u001b[0mdm\u001b[0m\u001b[1;33m]\u001b[0m\u001b[1;33m)\u001b[0m\u001b[1;33m\u001b[0m\u001b[0m\n\u001b[0m\u001b[0;32m     23\u001b[0m     \u001b[1;32mreturn\u001b[0m \u001b[0mres\u001b[0m\u001b[1;33m\u001b[0m\u001b[0m\n\u001b[0;32m     24\u001b[0m \u001b[1;33m\u001b[0m\u001b[0m\n",
      "\u001b[1;32md:\\program files (x86)\\microsoft visual studio\\shared\\python36_64\\lib\\site-packages\\scipy\\integrate\\quadpack.py\u001b[0m in \u001b[0;36mnquad\u001b[1;34m(func, ranges, args, opts, full_output)\u001b[0m\n\u001b[0;32m    803\u001b[0m     \u001b[1;32melse\u001b[0m\u001b[1;33m:\u001b[0m\u001b[1;33m\u001b[0m\u001b[0m\n\u001b[0;32m    804\u001b[0m         \u001b[0mopts\u001b[0m \u001b[1;33m=\u001b[0m \u001b[1;33m[\u001b[0m\u001b[0mopt\u001b[0m \u001b[1;32mif\u001b[0m \u001b[0mcallable\u001b[0m\u001b[1;33m(\u001b[0m\u001b[0mopt\u001b[0m\u001b[1;33m)\u001b[0m \u001b[1;32melse\u001b[0m \u001b[0m_OptFunc\u001b[0m\u001b[1;33m(\u001b[0m\u001b[0mopt\u001b[0m\u001b[1;33m)\u001b[0m \u001b[1;32mfor\u001b[0m \u001b[0mopt\u001b[0m \u001b[1;32min\u001b[0m \u001b[0mopts\u001b[0m\u001b[1;33m]\u001b[0m\u001b[1;33m\u001b[0m\u001b[0m\n\u001b[1;32m--> 805\u001b[1;33m     \u001b[1;32mreturn\u001b[0m \u001b[0m_NQuad\u001b[0m\u001b[1;33m(\u001b[0m\u001b[0mfunc\u001b[0m\u001b[1;33m,\u001b[0m \u001b[0mranges\u001b[0m\u001b[1;33m,\u001b[0m \u001b[0mopts\u001b[0m\u001b[1;33m,\u001b[0m \u001b[0mfull_output\u001b[0m\u001b[1;33m)\u001b[0m\u001b[1;33m.\u001b[0m\u001b[0mintegrate\u001b[0m\u001b[1;33m(\u001b[0m\u001b[1;33m*\u001b[0m\u001b[0margs\u001b[0m\u001b[1;33m)\u001b[0m\u001b[1;33m\u001b[0m\u001b[0m\n\u001b[0m\u001b[0;32m    806\u001b[0m \u001b[1;33m\u001b[0m\u001b[0m\n\u001b[0;32m    807\u001b[0m \u001b[1;33m\u001b[0m\u001b[0m\n",
      "\u001b[1;32md:\\program files (x86)\\microsoft visual studio\\shared\\python36_64\\lib\\site-packages\\scipy\\integrate\\quadpack.py\u001b[0m in \u001b[0;36mintegrate\u001b[1;34m(self, *args, **kwargs)\u001b[0m\n\u001b[0;32m    858\u001b[0m             \u001b[0mf\u001b[0m \u001b[1;33m=\u001b[0m \u001b[0mpartial\u001b[0m\u001b[1;33m(\u001b[0m\u001b[0mself\u001b[0m\u001b[1;33m.\u001b[0m\u001b[0mintegrate\u001b[0m\u001b[1;33m,\u001b[0m \u001b[0mdepth\u001b[0m\u001b[1;33m=\u001b[0m\u001b[0mdepth\u001b[0m\u001b[1;33m+\u001b[0m\u001b[1;36m1\u001b[0m\u001b[1;33m)\u001b[0m\u001b[1;33m\u001b[0m\u001b[0m\n\u001b[0;32m    859\u001b[0m         quad_r = quad(f, low, high, args=args, full_output=self.full_output,\n\u001b[1;32m--> 860\u001b[1;33m                       **opt)\n\u001b[0m\u001b[0;32m    861\u001b[0m         \u001b[0mvalue\u001b[0m \u001b[1;33m=\u001b[0m \u001b[0mquad_r\u001b[0m\u001b[1;33m[\u001b[0m\u001b[1;36m0\u001b[0m\u001b[1;33m]\u001b[0m\u001b[1;33m\u001b[0m\u001b[0m\n\u001b[0;32m    862\u001b[0m         \u001b[0mabserr\u001b[0m \u001b[1;33m=\u001b[0m \u001b[0mquad_r\u001b[0m\u001b[1;33m[\u001b[0m\u001b[1;36m1\u001b[0m\u001b[1;33m]\u001b[0m\u001b[1;33m\u001b[0m\u001b[0m\n",
      "\u001b[1;32md:\\program files (x86)\\microsoft visual studio\\shared\\python36_64\\lib\\site-packages\\scipy\\integrate\\quadpack.py\u001b[0m in \u001b[0;36mquad\u001b[1;34m(func, a, b, args, full_output, epsabs, epsrel, limit, points, weight, wvar, wopts, maxp1, limlst)\u001b[0m\n\u001b[0;32m    339\u001b[0m     \u001b[1;32mif\u001b[0m \u001b[0mweight\u001b[0m \u001b[1;32mis\u001b[0m \u001b[1;32mNone\u001b[0m\u001b[1;33m:\u001b[0m\u001b[1;33m\u001b[0m\u001b[0m\n\u001b[0;32m    340\u001b[0m         retval = _quad(func, a, b, args, full_output, epsabs, epsrel, limit,\n\u001b[1;32m--> 341\u001b[1;33m                        points)\n\u001b[0m\u001b[0;32m    342\u001b[0m     \u001b[1;32melse\u001b[0m\u001b[1;33m:\u001b[0m\u001b[1;33m\u001b[0m\u001b[0m\n\u001b[0;32m    343\u001b[0m         retval = _quad_weight(func, a, b, args, full_output, epsabs, epsrel,\n",
      "\u001b[1;32md:\\program files (x86)\\microsoft visual studio\\shared\\python36_64\\lib\\site-packages\\scipy\\integrate\\quadpack.py\u001b[0m in \u001b[0;36m_quad\u001b[1;34m(func, a, b, args, full_output, epsabs, epsrel, limit, points)\u001b[0m\n\u001b[0;32m    446\u001b[0m     \u001b[1;32mif\u001b[0m \u001b[0mpoints\u001b[0m \u001b[1;32mis\u001b[0m \u001b[1;32mNone\u001b[0m\u001b[1;33m:\u001b[0m\u001b[1;33m\u001b[0m\u001b[0m\n\u001b[0;32m    447\u001b[0m         \u001b[1;32mif\u001b[0m \u001b[0minfbounds\u001b[0m \u001b[1;33m==\u001b[0m \u001b[1;36m0\u001b[0m\u001b[1;33m:\u001b[0m\u001b[1;33m\u001b[0m\u001b[0m\n\u001b[1;32m--> 448\u001b[1;33m             \u001b[1;32mreturn\u001b[0m \u001b[0m_quadpack\u001b[0m\u001b[1;33m.\u001b[0m\u001b[0m_qagse\u001b[0m\u001b[1;33m(\u001b[0m\u001b[0mfunc\u001b[0m\u001b[1;33m,\u001b[0m\u001b[0ma\u001b[0m\u001b[1;33m,\u001b[0m\u001b[0mb\u001b[0m\u001b[1;33m,\u001b[0m\u001b[0margs\u001b[0m\u001b[1;33m,\u001b[0m\u001b[0mfull_output\u001b[0m\u001b[1;33m,\u001b[0m\u001b[0mepsabs\u001b[0m\u001b[1;33m,\u001b[0m\u001b[0mepsrel\u001b[0m\u001b[1;33m,\u001b[0m\u001b[0mlimit\u001b[0m\u001b[1;33m)\u001b[0m\u001b[1;33m\u001b[0m\u001b[0m\n\u001b[0m\u001b[0;32m    449\u001b[0m         \u001b[1;32melse\u001b[0m\u001b[1;33m:\u001b[0m\u001b[1;33m\u001b[0m\u001b[0m\n\u001b[0;32m    450\u001b[0m             \u001b[1;32mreturn\u001b[0m \u001b[0m_quadpack\u001b[0m\u001b[1;33m.\u001b[0m\u001b[0m_qagie\u001b[0m\u001b[1;33m(\u001b[0m\u001b[0mfunc\u001b[0m\u001b[1;33m,\u001b[0m\u001b[0mbound\u001b[0m\u001b[1;33m,\u001b[0m\u001b[0minfbounds\u001b[0m\u001b[1;33m,\u001b[0m\u001b[0margs\u001b[0m\u001b[1;33m,\u001b[0m\u001b[0mfull_output\u001b[0m\u001b[1;33m,\u001b[0m\u001b[0mepsabs\u001b[0m\u001b[1;33m,\u001b[0m\u001b[0mepsrel\u001b[0m\u001b[1;33m,\u001b[0m\u001b[0mlimit\u001b[0m\u001b[1;33m)\u001b[0m\u001b[1;33m\u001b[0m\u001b[0m\n",
      "\u001b[1;32md:\\program files (x86)\\microsoft visual studio\\shared\\python36_64\\lib\\site-packages\\scipy\\integrate\\quadpack.py\u001b[0m in \u001b[0;36mintegrate\u001b[1;34m(self, *args, **kwargs)\u001b[0m\n\u001b[0;32m    858\u001b[0m             \u001b[0mf\u001b[0m \u001b[1;33m=\u001b[0m \u001b[0mpartial\u001b[0m\u001b[1;33m(\u001b[0m\u001b[0mself\u001b[0m\u001b[1;33m.\u001b[0m\u001b[0mintegrate\u001b[0m\u001b[1;33m,\u001b[0m \u001b[0mdepth\u001b[0m\u001b[1;33m=\u001b[0m\u001b[0mdepth\u001b[0m\u001b[1;33m+\u001b[0m\u001b[1;36m1\u001b[0m\u001b[1;33m)\u001b[0m\u001b[1;33m\u001b[0m\u001b[0m\n\u001b[0;32m    859\u001b[0m         quad_r = quad(f, low, high, args=args, full_output=self.full_output,\n\u001b[1;32m--> 860\u001b[1;33m                       **opt)\n\u001b[0m\u001b[0;32m    861\u001b[0m         \u001b[0mvalue\u001b[0m \u001b[1;33m=\u001b[0m \u001b[0mquad_r\u001b[0m\u001b[1;33m[\u001b[0m\u001b[1;36m0\u001b[0m\u001b[1;33m]\u001b[0m\u001b[1;33m\u001b[0m\u001b[0m\n\u001b[0;32m    862\u001b[0m         \u001b[0mabserr\u001b[0m \u001b[1;33m=\u001b[0m \u001b[0mquad_r\u001b[0m\u001b[1;33m[\u001b[0m\u001b[1;36m1\u001b[0m\u001b[1;33m]\u001b[0m\u001b[1;33m\u001b[0m\u001b[0m\n",
      "\u001b[1;32md:\\program files (x86)\\microsoft visual studio\\shared\\python36_64\\lib\\site-packages\\scipy\\integrate\\quadpack.py\u001b[0m in \u001b[0;36mquad\u001b[1;34m(func, a, b, args, full_output, epsabs, epsrel, limit, points, weight, wvar, wopts, maxp1, limlst)\u001b[0m\n\u001b[0;32m    339\u001b[0m     \u001b[1;32mif\u001b[0m \u001b[0mweight\u001b[0m \u001b[1;32mis\u001b[0m \u001b[1;32mNone\u001b[0m\u001b[1;33m:\u001b[0m\u001b[1;33m\u001b[0m\u001b[0m\n\u001b[0;32m    340\u001b[0m         retval = _quad(func, a, b, args, full_output, epsabs, epsrel, limit,\n\u001b[1;32m--> 341\u001b[1;33m                        points)\n\u001b[0m\u001b[0;32m    342\u001b[0m     \u001b[1;32melse\u001b[0m\u001b[1;33m:\u001b[0m\u001b[1;33m\u001b[0m\u001b[0m\n\u001b[0;32m    343\u001b[0m         retval = _quad_weight(func, a, b, args, full_output, epsabs, epsrel,\n",
      "\u001b[1;32md:\\program files (x86)\\microsoft visual studio\\shared\\python36_64\\lib\\site-packages\\scipy\\integrate\\quadpack.py\u001b[0m in \u001b[0;36m_quad\u001b[1;34m(func, a, b, args, full_output, epsabs, epsrel, limit, points)\u001b[0m\n\u001b[0;32m    446\u001b[0m     \u001b[1;32mif\u001b[0m \u001b[0mpoints\u001b[0m \u001b[1;32mis\u001b[0m \u001b[1;32mNone\u001b[0m\u001b[1;33m:\u001b[0m\u001b[1;33m\u001b[0m\u001b[0m\n\u001b[0;32m    447\u001b[0m         \u001b[1;32mif\u001b[0m \u001b[0minfbounds\u001b[0m \u001b[1;33m==\u001b[0m \u001b[1;36m0\u001b[0m\u001b[1;33m:\u001b[0m\u001b[1;33m\u001b[0m\u001b[0m\n\u001b[1;32m--> 448\u001b[1;33m             \u001b[1;32mreturn\u001b[0m \u001b[0m_quadpack\u001b[0m\u001b[1;33m.\u001b[0m\u001b[0m_qagse\u001b[0m\u001b[1;33m(\u001b[0m\u001b[0mfunc\u001b[0m\u001b[1;33m,\u001b[0m\u001b[0ma\u001b[0m\u001b[1;33m,\u001b[0m\u001b[0mb\u001b[0m\u001b[1;33m,\u001b[0m\u001b[0margs\u001b[0m\u001b[1;33m,\u001b[0m\u001b[0mfull_output\u001b[0m\u001b[1;33m,\u001b[0m\u001b[0mepsabs\u001b[0m\u001b[1;33m,\u001b[0m\u001b[0mepsrel\u001b[0m\u001b[1;33m,\u001b[0m\u001b[0mlimit\u001b[0m\u001b[1;33m)\u001b[0m\u001b[1;33m\u001b[0m\u001b[0m\n\u001b[0m\u001b[0;32m    449\u001b[0m         \u001b[1;32melse\u001b[0m\u001b[1;33m:\u001b[0m\u001b[1;33m\u001b[0m\u001b[0m\n\u001b[0;32m    450\u001b[0m             \u001b[1;32mreturn\u001b[0m \u001b[0m_quadpack\u001b[0m\u001b[1;33m.\u001b[0m\u001b[0m_qagie\u001b[0m\u001b[1;33m(\u001b[0m\u001b[0mfunc\u001b[0m\u001b[1;33m,\u001b[0m\u001b[0mbound\u001b[0m\u001b[1;33m,\u001b[0m\u001b[0minfbounds\u001b[0m\u001b[1;33m,\u001b[0m\u001b[0margs\u001b[0m\u001b[1;33m,\u001b[0m\u001b[0mfull_output\u001b[0m\u001b[1;33m,\u001b[0m\u001b[0mepsabs\u001b[0m\u001b[1;33m,\u001b[0m\u001b[0mepsrel\u001b[0m\u001b[1;33m,\u001b[0m\u001b[0mlimit\u001b[0m\u001b[1;33m)\u001b[0m\u001b[1;33m\u001b[0m\u001b[0m\n",
      "\u001b[1;32md:\\program files (x86)\\microsoft visual studio\\shared\\python36_64\\lib\\site-packages\\scipy\\integrate\\quadpack.py\u001b[0m in \u001b[0;36mintegrate\u001b[1;34m(self, *args, **kwargs)\u001b[0m\n\u001b[0;32m    858\u001b[0m             \u001b[0mf\u001b[0m \u001b[1;33m=\u001b[0m \u001b[0mpartial\u001b[0m\u001b[1;33m(\u001b[0m\u001b[0mself\u001b[0m\u001b[1;33m.\u001b[0m\u001b[0mintegrate\u001b[0m\u001b[1;33m,\u001b[0m \u001b[0mdepth\u001b[0m\u001b[1;33m=\u001b[0m\u001b[0mdepth\u001b[0m\u001b[1;33m+\u001b[0m\u001b[1;36m1\u001b[0m\u001b[1;33m)\u001b[0m\u001b[1;33m\u001b[0m\u001b[0m\n\u001b[0;32m    859\u001b[0m         quad_r = quad(f, low, high, args=args, full_output=self.full_output,\n\u001b[1;32m--> 860\u001b[1;33m                       **opt)\n\u001b[0m\u001b[0;32m    861\u001b[0m         \u001b[0mvalue\u001b[0m \u001b[1;33m=\u001b[0m \u001b[0mquad_r\u001b[0m\u001b[1;33m[\u001b[0m\u001b[1;36m0\u001b[0m\u001b[1;33m]\u001b[0m\u001b[1;33m\u001b[0m\u001b[0m\n\u001b[0;32m    862\u001b[0m         \u001b[0mabserr\u001b[0m \u001b[1;33m=\u001b[0m \u001b[0mquad_r\u001b[0m\u001b[1;33m[\u001b[0m\u001b[1;36m1\u001b[0m\u001b[1;33m]\u001b[0m\u001b[1;33m\u001b[0m\u001b[0m\n",
      "\u001b[1;32md:\\program files (x86)\\microsoft visual studio\\shared\\python36_64\\lib\\site-packages\\scipy\\integrate\\quadpack.py\u001b[0m in \u001b[0;36mquad\u001b[1;34m(func, a, b, args, full_output, epsabs, epsrel, limit, points, weight, wvar, wopts, maxp1, limlst)\u001b[0m\n\u001b[0;32m    339\u001b[0m     \u001b[1;32mif\u001b[0m \u001b[0mweight\u001b[0m \u001b[1;32mis\u001b[0m \u001b[1;32mNone\u001b[0m\u001b[1;33m:\u001b[0m\u001b[1;33m\u001b[0m\u001b[0m\n\u001b[0;32m    340\u001b[0m         retval = _quad(func, a, b, args, full_output, epsabs, epsrel, limit,\n\u001b[1;32m--> 341\u001b[1;33m                        points)\n\u001b[0m\u001b[0;32m    342\u001b[0m     \u001b[1;32melse\u001b[0m\u001b[1;33m:\u001b[0m\u001b[1;33m\u001b[0m\u001b[0m\n\u001b[0;32m    343\u001b[0m         retval = _quad_weight(func, a, b, args, full_output, epsabs, epsrel,\n",
      "\u001b[1;32md:\\program files (x86)\\microsoft visual studio\\shared\\python36_64\\lib\\site-packages\\scipy\\integrate\\quadpack.py\u001b[0m in \u001b[0;36m_quad\u001b[1;34m(func, a, b, args, full_output, epsabs, epsrel, limit, points)\u001b[0m\n\u001b[0;32m    446\u001b[0m     \u001b[1;32mif\u001b[0m \u001b[0mpoints\u001b[0m \u001b[1;32mis\u001b[0m \u001b[1;32mNone\u001b[0m\u001b[1;33m:\u001b[0m\u001b[1;33m\u001b[0m\u001b[0m\n\u001b[0;32m    447\u001b[0m         \u001b[1;32mif\u001b[0m \u001b[0minfbounds\u001b[0m \u001b[1;33m==\u001b[0m \u001b[1;36m0\u001b[0m\u001b[1;33m:\u001b[0m\u001b[1;33m\u001b[0m\u001b[0m\n\u001b[1;32m--> 448\u001b[1;33m             \u001b[1;32mreturn\u001b[0m \u001b[0m_quadpack\u001b[0m\u001b[1;33m.\u001b[0m\u001b[0m_qagse\u001b[0m\u001b[1;33m(\u001b[0m\u001b[0mfunc\u001b[0m\u001b[1;33m,\u001b[0m\u001b[0ma\u001b[0m\u001b[1;33m,\u001b[0m\u001b[0mb\u001b[0m\u001b[1;33m,\u001b[0m\u001b[0margs\u001b[0m\u001b[1;33m,\u001b[0m\u001b[0mfull_output\u001b[0m\u001b[1;33m,\u001b[0m\u001b[0mepsabs\u001b[0m\u001b[1;33m,\u001b[0m\u001b[0mepsrel\u001b[0m\u001b[1;33m,\u001b[0m\u001b[0mlimit\u001b[0m\u001b[1;33m)\u001b[0m\u001b[1;33m\u001b[0m\u001b[0m\n\u001b[0m\u001b[0;32m    449\u001b[0m         \u001b[1;32melse\u001b[0m\u001b[1;33m:\u001b[0m\u001b[1;33m\u001b[0m\u001b[0m\n\u001b[0;32m    450\u001b[0m             \u001b[1;32mreturn\u001b[0m \u001b[0m_quadpack\u001b[0m\u001b[1;33m.\u001b[0m\u001b[0m_qagie\u001b[0m\u001b[1;33m(\u001b[0m\u001b[0mfunc\u001b[0m\u001b[1;33m,\u001b[0m\u001b[0mbound\u001b[0m\u001b[1;33m,\u001b[0m\u001b[0minfbounds\u001b[0m\u001b[1;33m,\u001b[0m\u001b[0margs\u001b[0m\u001b[1;33m,\u001b[0m\u001b[0mfull_output\u001b[0m\u001b[1;33m,\u001b[0m\u001b[0mepsabs\u001b[0m\u001b[1;33m,\u001b[0m\u001b[0mepsrel\u001b[0m\u001b[1;33m,\u001b[0m\u001b[0mlimit\u001b[0m\u001b[1;33m)\u001b[0m\u001b[1;33m\u001b[0m\u001b[0m\n",
      "\u001b[1;32m<ipython-input-90-3572883baa74>\u001b[0m in \u001b[0;36mintegrand\u001b[1;34m(t, s, v, dm)\u001b[0m\n\u001b[0;32m      3\u001b[0m '''\n\u001b[0;32m      4\u001b[0m \u001b[1;32mdef\u001b[0m \u001b[0mintegrand\u001b[0m\u001b[1;33m(\u001b[0m\u001b[0mt\u001b[0m\u001b[1;33m,\u001b[0m \u001b[0ms\u001b[0m\u001b[1;33m,\u001b[0m \u001b[0mv\u001b[0m\u001b[1;33m,\u001b[0m \u001b[0mdm\u001b[0m\u001b[1;33m)\u001b[0m\u001b[1;33m:\u001b[0m\u001b[1;33m\u001b[0m\u001b[0m\n\u001b[1;32m----> 5\u001b[1;33m     \u001b[1;32mreturn\u001b[0m \u001b[0mv\u001b[0m \u001b[1;33m*\u001b[0m \u001b[0mt\u001b[0m \u001b[1;33m*\u001b[0m \u001b[0mheaviside_product\u001b[0m\u001b[1;33m(\u001b[0m\u001b[0ms\u001b[0m\u001b[1;33m,\u001b[0m \u001b[0mt\u001b[0m\u001b[1;33m,\u001b[0m \u001b[0mv\u001b[0m\u001b[1;33m)\u001b[0m \u001b[1;33m*\u001b[0m \u001b[0minit_FD\u001b[0m\u001b[1;33m(\u001b[0m\u001b[0ms\u001b[0m\u001b[1;33m,\u001b[0m \u001b[0mt\u001b[0m\u001b[1;33m,\u001b[0m \u001b[0mdm\u001b[0m\u001b[1;33m)\u001b[0m \u001b[1;33m*\u001b[0m \u001b[0mfinal_FD\u001b[0m\u001b[1;33m(\u001b[0m\u001b[0ms\u001b[0m\u001b[1;33m,\u001b[0m \u001b[0mt\u001b[0m\u001b[1;33m,\u001b[0m \u001b[0mv\u001b[0m\u001b[1;33m,\u001b[0m \u001b[0mdm\u001b[0m\u001b[1;33m)\u001b[0m\u001b[1;33m\u001b[0m\u001b[0m\n\u001b[0m\u001b[0;32m      6\u001b[0m \u001b[1;33m\u001b[0m\u001b[0m\n\u001b[0;32m      7\u001b[0m \u001b[1;33m\u001b[0m\u001b[0m\n",
      "\u001b[1;32m<ipython-input-3-96fc248bc76b>\u001b[0m in \u001b[0;36minit_FD\u001b[1;34m(s, t, dm)\u001b[0m\n\u001b[0;32m      3\u001b[0m '''\n\u001b[0;32m      4\u001b[0m \u001b[1;32mdef\u001b[0m \u001b[0minit_FD\u001b[0m\u001b[1;33m(\u001b[0m\u001b[0ms\u001b[0m\u001b[1;33m,\u001b[0m \u001b[0mt\u001b[0m\u001b[1;33m,\u001b[0m \u001b[0mdm\u001b[0m\u001b[1;33m)\u001b[0m\u001b[1;33m:\u001b[0m\u001b[1;33m\u001b[0m\u001b[0m\n\u001b[1;32m----> 5\u001b[1;33m     \u001b[1;32mreturn\u001b[0m \u001b[0mspecial\u001b[0m\u001b[1;33m.\u001b[0m\u001b[0mexpit\u001b[0m\u001b[1;33m(\u001b[0m\u001b[1;33m-\u001b[0m\u001b[1;33m(\u001b[0m\u001b[0minit_energy\u001b[0m\u001b[1;33m(\u001b[0m\u001b[0ms\u001b[0m\u001b[1;33m,\u001b[0m \u001b[0mt\u001b[0m\u001b[1;33m,\u001b[0m \u001b[0mdm\u001b[0m\u001b[1;33m)\u001b[0m \u001b[1;33m-\u001b[0m \u001b[0mfermi_energy\u001b[0m\u001b[1;33m)\u001b[0m \u001b[1;33m/\u001b[0m \u001b[0mtemp\u001b[0m\u001b[1;33m)\u001b[0m\u001b[1;33m\u001b[0m\u001b[0m\n\u001b[0m\u001b[0;32m      6\u001b[0m \u001b[1;33m\u001b[0m\u001b[0m\n\u001b[0;32m      7\u001b[0m \u001b[1;32mdef\u001b[0m \u001b[0mfinal_FD\u001b[0m\u001b[1;33m(\u001b[0m\u001b[0ms\u001b[0m\u001b[1;33m,\u001b[0m \u001b[0mt\u001b[0m\u001b[1;33m,\u001b[0m \u001b[0mv\u001b[0m\u001b[1;33m,\u001b[0m \u001b[0mdm\u001b[0m\u001b[1;33m)\u001b[0m\u001b[1;33m:\u001b[0m\u001b[1;33m\u001b[0m\u001b[0m\n",
      "\u001b[1;32m<ipython-input-2-b09d1b275dff>\u001b[0m in \u001b[0;36minit_energy\u001b[1;34m(s, t, dm)\u001b[0m\n\u001b[0;32m     16\u001b[0m \u001b[1;33m\u001b[0m\u001b[0m\n\u001b[0;32m     17\u001b[0m \u001b[1;32mdef\u001b[0m \u001b[0minit_energy\u001b[0m\u001b[1;33m(\u001b[0m\u001b[0ms\u001b[0m\u001b[1;33m,\u001b[0m \u001b[0mt\u001b[0m\u001b[1;33m,\u001b[0m \u001b[0mdm\u001b[0m\u001b[1;33m)\u001b[0m\u001b[1;33m:\u001b[0m\u001b[1;33m\u001b[0m\u001b[0m\n\u001b[1;32m---> 18\u001b[1;33m     \u001b[1;32mreturn\u001b[0m \u001b[1;36m0.5\u001b[0m \u001b[1;33m*\u001b[0m \u001b[0mnm\u001b[0m \u001b[1;33m*\u001b[0m \u001b[0minit_vel_sqr\u001b[0m\u001b[1;33m(\u001b[0m\u001b[0ms\u001b[0m\u001b[1;33m,\u001b[0m \u001b[0mt\u001b[0m\u001b[1;33m,\u001b[0m \u001b[0mdm\u001b[0m\u001b[1;33m)\u001b[0m\u001b[1;33m\u001b[0m\u001b[0m\n\u001b[0m\u001b[0;32m     19\u001b[0m \u001b[1;33m\u001b[0m\u001b[0m\n\u001b[0;32m     20\u001b[0m \u001b[1;32mdef\u001b[0m \u001b[0mfinal_energy\u001b[0m\u001b[1;33m(\u001b[0m\u001b[0ms\u001b[0m\u001b[1;33m,\u001b[0m\u001b[0mt\u001b[0m\u001b[1;33m,\u001b[0m\u001b[0mv\u001b[0m\u001b[1;33m,\u001b[0m\u001b[0mdm\u001b[0m\u001b[1;33m)\u001b[0m\u001b[1;33m:\u001b[0m\u001b[1;33m\u001b[0m\u001b[0m\n",
      "\u001b[1;32m<ipython-input-2-b09d1b275dff>\u001b[0m in \u001b[0;36minit_vel_sqr\u001b[1;34m(s, t, dm)\u001b[0m\n\u001b[0;32m     10\u001b[0m \u001b[1;33m\u001b[0m\u001b[0m\n\u001b[0;32m     11\u001b[0m \u001b[1;32mdef\u001b[0m \u001b[0minit_vel_sqr\u001b[0m\u001b[1;33m(\u001b[0m\u001b[0ms\u001b[0m\u001b[1;33m,\u001b[0m \u001b[0mt\u001b[0m\u001b[1;33m,\u001b[0m \u001b[0mdm\u001b[0m\u001b[1;33m)\u001b[0m\u001b[1;33m:\u001b[0m\u001b[1;33m\u001b[0m\u001b[0m\n\u001b[1;32m---> 12\u001b[1;33m     \u001b[1;32mreturn\u001b[0m \u001b[1;33m(\u001b[0m\u001b[1;36m2\u001b[0m \u001b[1;33m*\u001b[0m \u001b[0mmu\u001b[0m\u001b[1;33m(\u001b[0m\u001b[0mdm\u001b[0m\u001b[1;33m)\u001b[0m \u001b[1;33m*\u001b[0m \u001b[0mmuplus\u001b[0m\u001b[1;33m(\u001b[0m\u001b[0mdm\u001b[0m\u001b[1;33m)\u001b[0m \u001b[1;33m*\u001b[0m \u001b[0mt\u001b[0m\u001b[1;33m**\u001b[0m\u001b[1;36m2\u001b[0m \u001b[1;33m+\u001b[0m \u001b[1;36m2\u001b[0m\u001b[1;33m*\u001b[0m \u001b[0mmuplus\u001b[0m\u001b[1;33m(\u001b[0m\u001b[0mdm\u001b[0m\u001b[1;33m)\u001b[0m \u001b[1;33m*\u001b[0m \u001b[0ms\u001b[0m\u001b[1;33m**\u001b[0m\u001b[1;36m2\u001b[0m \u001b[1;33m-\u001b[0m \u001b[0mmu\u001b[0m\u001b[1;33m(\u001b[0m\u001b[0mdm\u001b[0m\u001b[1;33m)\u001b[0m \u001b[1;33m*\u001b[0m \u001b[0mw\u001b[0m\u001b[1;33m**\u001b[0m\u001b[1;36m2\u001b[0m\u001b[1;33m)\u001b[0m \u001b[1;33m/\u001b[0m \u001b[0mcnts\u001b[0m\u001b[1;33m.\u001b[0m\u001b[0mspeed_of_light\u001b[0m\u001b[1;33m**\u001b[0m\u001b[1;36m2\u001b[0m\u001b[1;33m\u001b[0m\u001b[0m\n\u001b[0m\u001b[0;32m     13\u001b[0m \u001b[1;33m\u001b[0m\u001b[0m\n\u001b[0;32m     14\u001b[0m \u001b[1;32mdef\u001b[0m \u001b[0mfinal_vel_sqr\u001b[0m\u001b[1;33m(\u001b[0m\u001b[0ms\u001b[0m\u001b[1;33m,\u001b[0m \u001b[0mt\u001b[0m\u001b[1;33m,\u001b[0m \u001b[0mv\u001b[0m\u001b[1;33m,\u001b[0m \u001b[0mdm\u001b[0m\u001b[1;33m)\u001b[0m\u001b[1;33m:\u001b[0m\u001b[1;33m\u001b[0m\u001b[0m\n",
      "\u001b[1;32m<ipython-input-2-b09d1b275dff>\u001b[0m in \u001b[0;36mmuplus\u001b[1;34m(dm)\u001b[0m\n\u001b[0;32m      7\u001b[0m \u001b[1;33m\u001b[0m\u001b[0m\n\u001b[0;32m      8\u001b[0m \u001b[1;32mdef\u001b[0m \u001b[0mmuplus\u001b[0m\u001b[1;33m(\u001b[0m\u001b[0mdm\u001b[0m\u001b[1;33m)\u001b[0m\u001b[1;33m:\u001b[0m\u001b[1;33m\u001b[0m\u001b[0m\n\u001b[1;32m----> 9\u001b[1;33m     \u001b[1;32mreturn\u001b[0m \u001b[1;33m(\u001b[0m\u001b[1;36m1\u001b[0m \u001b[1;33m+\u001b[0m \u001b[0mmu\u001b[0m\u001b[1;33m(\u001b[0m\u001b[0mdm\u001b[0m\u001b[1;33m)\u001b[0m\u001b[1;33m)\u001b[0m \u001b[1;33m/\u001b[0m \u001b[1;36m2\u001b[0m\u001b[1;33m\u001b[0m\u001b[0m\n\u001b[0m\u001b[0;32m     10\u001b[0m \u001b[1;33m\u001b[0m\u001b[0m\n\u001b[0;32m     11\u001b[0m \u001b[1;32mdef\u001b[0m \u001b[0minit_vel_sqr\u001b[0m\u001b[1;33m(\u001b[0m\u001b[0ms\u001b[0m\u001b[1;33m,\u001b[0m \u001b[0mt\u001b[0m\u001b[1;33m,\u001b[0m \u001b[0mdm\u001b[0m\u001b[1;33m)\u001b[0m\u001b[1;33m:\u001b[0m\u001b[1;33m\u001b[0m\u001b[0m\n",
      "\u001b[1;31mKeyboardInterrupt\u001b[0m: "
     ]
    }
   ],
   "source": [
    "cap_rate_integral(1)"
>>>>>>> f598797cd272974c21ee3b9ddc73d23aaaa4e038
   ]
  },
  {
   "cell_type": "code",
<<<<<<< HEAD
   "execution_count": 116,
=======
   "execution_count": 28,
>>>>>>> f598797cd272974c21ee3b9ddc73d23aaaa4e038
   "metadata": {},
   "outputs": [],
   "source": [
    "'''\n",
    "MESSING AROUND\n",
    "'''\n",
    "def init_FD_test(E):\n",
    "    return special.expit(-(E - fermi_energy) / temp)\n",
    "\n",
    "'''\n",
    "    a = E\n",
    "    if  a > (fermi_energy + 5e-8):\n",
    "            return 0\n",
    "    elif a < (fermi_energy - 5e-8):\n",
    "            return 1\n",
    "    return 1 / (1 + np.exp((E - fermi_energy) / temp))\n",
    "'''\n",
    "def final_FD_test(E):\n",
    "    return 1 - special.expit(-(E - fermi_energy)/temp)\n",
    "\n",
    "\n",
    "def make_plot():\n",
<<<<<<< HEAD
    "    v_range = np.linspace(fermi_energy - 1e-8 , fermi_energy + 1e-8 , 1000)\n",
=======
    "    v_range = np.linspace(0, w, 1000)\n",
>>>>>>> f598797cd272974c21ee3b9ddc73d23aaaa4e038
    "    dist1 = np.empty(0)\n",
    "    dist2 = np.empty(0)\n",
    "\n",
    "    for x in v_range:\n",
<<<<<<< HEAD
    "        dummy1 = init_FD_test(x)\n",
    "        dist1 = np.append(dist1, dummy1)\n",
    "\n",
    "        dummy2 = final_FD_test(x + fermi_energy/99999991)\n",
=======
    "        dummy1 = incoming_step(w, w/2)\n",
    "        dist1 = np.append(dist1, dummy1)\n",
    "\n",
    "        dummy2 = outgoing_step(w, w/2, x)\n",
>>>>>>> f598797cd272974c21ee3b9ddc73d23aaaa4e038
    "        dist2 = np.append(dist2, dummy2)\n",
    "\n",
    "\n",
    "    fig, ax1 = plt.subplots()\n",
    "    ax1.plot(v_range, dist1, v_range, dist2)\n",
    "    #ax1.set_xscale('log')\n",
    "    plt.show()\n"
   ]
  },
  {
   "cell_type": "code",
<<<<<<< HEAD
   "execution_count": 117,
=======
   "execution_count": 29,
>>>>>>> f598797cd272974c21ee3b9ddc73d23aaaa4e038
   "metadata": {},
   "outputs": [
    {
     "data": {
<<<<<<< HEAD
      "image/png": "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\n",
=======
      "image/png": "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\n",
>>>>>>> f598797cd272974c21ee3b9ddc73d23aaaa4e038
      "text/plain": [
       "<Figure size 432x288 with 1 Axes>"
      ]
     },
     "metadata": {
      "needs_background": "light"
     },
     "output_type": "display_data"
    }
   ],
   "source": [
    "make_plot()"
   ]
  },
  {
   "cell_type": "code",
<<<<<<< HEAD
=======
   "execution_count": 83,
   "metadata": {},
   "outputs": [],
   "source": [
    "def test(x, y, z, t):\n",
    "    return  x * y * z * t\n",
    "\n",
    "def xbounds(y, z, t):\n",
    "    return [0, z+y]\n",
    "\n",
    "def ybounds(z, t):\n",
    "    return [0, z]\n",
    "\n",
    "def zbounds(t):\n",
    "    return [0, 10]\n",
    "\n",
    "\n",
    "def int_test(t):\n",
    "    result, error = integrate.nquad(test, [xbounds, ybounds, zbounds], args = [t])\n",
    "    return result"
   ]
  },
  {
   "cell_type": "code",
   "execution_count": 84,
   "metadata": {},
   "outputs": [
    {
     "data": {
      "text/plain": [
       "118055.55555555556"
      ]
     },
     "execution_count": 84,
     "metadata": {},
     "output_type": "execute_result"
    }
   ],
   "source": [
    "int_test(1)"
   ]
  },
  {
   "cell_type": "code",
   "execution_count": null,
   "metadata": {},
   "outputs": [],
   "source": []
  },
  {
   "cell_type": "code",
>>>>>>> f598797cd272974c21ee3b9ddc73d23aaaa4e038
   "execution_count": null,
   "metadata": {},
   "outputs": [],
   "source": []
  }
 ],
 "metadata": {
  "kernelspec": {
   "display_name": "Python 3",
   "language": "python",
   "name": "python3"
  },
  "language_info": {
   "codemirror_mode": {
    "name": "ipython",
    "version": 3
   },
   "file_extension": ".py",
   "mimetype": "text/x-python",
   "name": "python",
   "nbconvert_exporter": "python",
   "pygments_lexer": "ipython3",
<<<<<<< HEAD
   "version": "3.7.2"
=======
   "version": "3.6.6"
>>>>>>> f598797cd272974c21ee3b9ddc73d23aaaa4e038
  }
 },
 "nbformat": 4,
 "nbformat_minor": 2
}
