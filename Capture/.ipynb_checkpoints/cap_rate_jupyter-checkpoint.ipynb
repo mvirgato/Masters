{
 "cells": [
  {
   "cell_type": "code",
   "execution_count": 1,
   "metadata": {},
   "outputs": [],
   "source": [
    "import numpy as np\n",
    "from scipy import constants as cnts\n",
    "from scipy import integrate\n",
    "from scipy import special\n",
    "import matplotlib.pyplot as plt\n",
    "\n",
    "'''\n",
    "GLOBAL CONSTANTS\n",
    "'''\n",
    "\n",
    "w = escape_vel = np.sqrt( (2 * cnts.G * 1.4 * 2e30) / 1e3 )\n",
    "\n",
    "temp = (1e3/ 1.16e4) *1e-9\n",
    "\n",
    "therm_time = (1e10 * 3.145e7 * 1e9) / 6.58e-16\n",
    "\n",
    "nm = 0.939\n",
    "\n",
    "fermi_energy = 0.085\n",
    "\n",
    "vd = 270e3\n",
    "\n",
    "vs = 200e3\n",
    "\n"
   ]
  },
  {
   "cell_type": "code",
   "execution_count": 2,
   "metadata": {},
   "outputs": [],
   "source": [
    "'''\n",
    "SET  UP FUNCTIONS\n",
    "'''\n",
    "\n",
    "def mu(dm):\n",
    "    return dm/nm\n",
    "\n",
    "def muplus(dm):\n",
    "    return (1 + mu(dm)) / 2\n",
    "\n",
    "def init_vel_sqr(s, t, dm):\n",
    "    return (2 * mu(dm) * muplus(dm) * t**2 + 2* muplus(dm) * s**2 - mu(dm) * w**2) / cnts.speed_of_light**2\n",
    "\n",
    "def final_vel_sqr(s, t, v, dm):\n",
    "    return (2 * mu(dm) * muplus(dm) * t**2 + 2* muplus(dm) * s**2 - mu(dm) * v**2) / cnts.speed_of_light**2\n",
    "\n",
    "def init_energy(s, t, dm):\n",
    "    return 0.5 * nm * init_vel_sqr(s, t, dm)\n",
    "\n",
    "def final_energy(s,t,v,dm):\n",
    "    return 0.5 * nm * final_vel_sqr(s,t,v,dm)\n",
    "\n"
   ]
  },
  {
   "cell_type": "code",
   "execution_count": 4,
   "metadata": {},
   "outputs": [],
   "source": [
    "'''\n",
    "DISTRIBUTION FUNCTIONS\n",
    "'''\n",
    "def init_FD(s, t, dm):\n",
    "    return special.expit(-(init_energy(s, t, dm) - fermi_energy) / temp)\n",
    "\n",
    "def final_FD(s, t, v, dm):\n",
    "    return 1 - special.expit(-(final_energy(s, t, v, dm) - fermi_energy) / temp)\n",
    "\n",
    "def MB_dist(f):\n",
    "    return np.exp(-init_vel_sqr(s, t, dm))"
   ]
  },
  {
   "cell_type": "code",
   "execution_count": 5,
   "metadata": {},
   "outputs": [
    {
     "ename": "NameError",
     "evalue": "name 's' is not defined",
     "output_type": "error",
     "traceback": [
      "\u001b[1;31m---------------------------------------------------------------------------\u001b[0m",
      "\u001b[1;31mNameError\u001b[0m                                 Traceback (most recent call last)",
      "\u001b[1;32m<ipython-input-5-a77f917b8059>\u001b[0m in \u001b[0;36m<module>\u001b[1;34m\u001b[0m\n\u001b[1;32m----> 1\u001b[1;33m \u001b[0mMB_dist\u001b[0m\u001b[1;33m(\u001b[0m\u001b[0minit_vel_sqr\u001b[0m\u001b[1;33m)\u001b[0m\u001b[1;33m\u001b[0m\u001b[1;33m\u001b[0m\u001b[0m\n\u001b[0m",
      "\u001b[1;32m<ipython-input-4-4d3edfd1db92>\u001b[0m in \u001b[0;36mMB_dist\u001b[1;34m(f)\u001b[0m\n\u001b[0;32m      9\u001b[0m \u001b[1;33m\u001b[0m\u001b[0m\n\u001b[0;32m     10\u001b[0m \u001b[1;32mdef\u001b[0m \u001b[0mMB_dist\u001b[0m\u001b[1;33m(\u001b[0m\u001b[0mf\u001b[0m\u001b[1;33m)\u001b[0m\u001b[1;33m:\u001b[0m\u001b[1;33m\u001b[0m\u001b[1;33m\u001b[0m\u001b[0m\n\u001b[1;32m---> 11\u001b[1;33m     \u001b[1;32mreturn\u001b[0m \u001b[0mnp\u001b[0m\u001b[1;33m.\u001b[0m\u001b[0mexp\u001b[0m\u001b[1;33m(\u001b[0m\u001b[1;33m-\u001b[0m\u001b[0minit_vel_sqr\u001b[0m\u001b[1;33m(\u001b[0m\u001b[0ms\u001b[0m\u001b[1;33m,\u001b[0m \u001b[0mt\u001b[0m\u001b[1;33m,\u001b[0m \u001b[0mdm\u001b[0m\u001b[1;33m)\u001b[0m\u001b[1;33m)\u001b[0m\u001b[1;33m\u001b[0m\u001b[1;33m\u001b[0m\u001b[0m\n\u001b[0m",
      "\u001b[1;31mNameError\u001b[0m: name 's' is not defined"
     ]
    }
   ],
   "source": [
    "MB_dist(init_vel_sqr)"
   ]
  },
  {
   "cell_type": "code",
   "execution_count": 121,
   "metadata": {},
   "outputs": [],
   "source": [
    "'''\n",
    "TRIG FUNCTIONS\n",
    "'''\n",
    "def incoming_cos(s, t):\n",
    "    return (w**2 - s**2 -t**2 ) / (2 * s * t)\n",
    "\n",
    "def outgoing_cos(s, t, v):\n",
    "    return (v**2 - s**2 -t**2 ) / (2 * s * t)\n",
    "\n",
    "'''\n",
    "STEP FUNCTIONS\n",
    "'''\n",
    "def incoming_step(s, t):\n",
    "    if abs(incoming_cos(s, t)) > 1:\n",
    "        return 0\n",
    "    elif abs(incoming_cos(s, t)) <= 1:\n",
    "        return 1\n",
    "\n",
    "def outgoing_step(s, t, v):\n",
    "    if abs(outgoing_cos(s, t, v)) > 1:\n",
    "        return 0\n",
    "    elif abs(outgoing_cos(s, t, v)) <= 1:\n",
    "        return 1\n",
    "\n",
    "def heaviside_product(s, t, v):\n",
    "    return incoming_step(s, t) * outgoing_step(s, t, v)\n",
    "\n",
    "\n"
   ]
  },
  {
   "cell_type": "code",
   "execution_count": 122,
   "metadata": {},
   "outputs": [
    {
     "data": {
      "text/plain": [
       "8.620689655172415e-11"
      ]
     },
     "execution_count": 122,
     "metadata": {},
     "output_type": "execute_result"
    }
   ],
   "source": [
    "temp"
   ]
  },
  {
   "cell_type": "code",
   "execution_count": 123,
   "metadata": {},
   "outputs": [],
   "source": [
    "'''\n",
    "INTEGRAND\n",
    "'''\n",
    "def integrand(s, t, v, dm):\n",
    "    return v * t * heaviside_product(s, t, v) * init_FD(s, t, dm) * final_FD(s, t, v, dm)\n",
    "\n",
    "\n",
    "'''\n",
    "MAIN\n",
    "'''\n",
    "def cap_rate_integral(x):\n",
    "    res, err = integrate.tplquad(integrand, 0, np.inf, 0, np.inf, 0, w, args = [x])\n",
    "    return res\n",
    "\n",
    "\n",
    "def cap_plot():\n",
    "    mass_range = np.logspace(-6, 6, 1000)\n",
    "    dist1 = np.empty(0)\n",
    "\n",
    "    for x in mass_range:\n",
    "        dummy1 = cap_rate_integral(x)\n",
    "        dist1 = np.append(dist1, dummy1)\n",
    "\n",
    "\n",
    "    fig, ax1 = plt.subplots()\n",
    "    ax1.plot(mass_range, dist1)\n",
    "    #ax1.set_xscale('log')\n",
    "    plt.show()\n",
    "\n",
    "\n",
    "\n",
    "\n"
   ]
  },
  {
   "cell_type": "code",
   "execution_count": 125,
   "metadata": {},
   "outputs": [
    {
     "data": {
      "image/png": "[encoded data removed]",
      "text/plain": [
       "<Figure size 432x288 with 1 Axes>"
      ]
     },
     "metadata": {
      "needs_background": "light"
     },
     "output_type": "display_data"
    }
   ],
   "source": [
    "cap_plot()"
   ]
  },
  {
   "cell_type": "code",
   "execution_count": 116,
   "metadata": {},
   "outputs": [],
   "source": [
    "'''\n",
    "MESSING AROUND\n",
    "'''\n",
    "def init_FD_test(E):\n",
    "    return special.expit(-(E - fermi_energy) / temp)\n",
    "\n",
    "'''\n",
    "    a = E\n",
    "    if  a > (fermi_energy + 5e-8):\n",
    "            return 0\n",
    "    elif a < (fermi_energy - 5e-8):\n",
    "            return 1\n",
    "    return 1 / (1 + np.exp((E - fermi_energy) / temp))\n",
    "'''\n",
    "def final_FD_test(E):\n",
    "    return 1 - special.expit(-(E - fermi_energy)/temp)\n",
    "\n",
    "\n",
    "def make_plot():\n",
    "    v_range = np.linspace(fermi_energy - 1e-8 , fermi_energy + 1e-8 , 1000)\n",
    "    dist1 = np.empty(0)\n",
    "    dist2 = np.empty(0)\n",
    "\n",
    "    for x in v_range:\n",
    "        dummy1 = init_FD_test(x)\n",
    "        dist1 = np.append(dist1, dummy1)\n",
    "\n",
    "        dummy2 = final_FD_test(x + fermi_energy/99999991)\n",
    "        dist2 = np.append(dist2, dummy2)\n",
    "\n",
    "\n",
    "    fig, ax1 = plt.subplots()\n",
    "    ax1.plot(v_range, dist1, v_range, dist2)\n",
    "    #ax1.set_xscale('log')\n",
    "    plt.show()\n"
   ]
  },
  {
   "cell_type": "code",
   "execution_count": 117,
   "metadata": {},
   "outputs": [
    {
     "data": {
      "image/png": "[encoded data removed]",
      "text/plain": [
       "<Figure size 432x288 with 1 Axes>"
      ]
     },
     "metadata": {
      "needs_background": "light"
     },
     "output_type": "display_data"
    }
   ],
   "source": [
    "make_plot()"
   ]
  },
  {
   "cell_type": "code",
   "execution_count": null,
   "metadata": {},
   "outputs": [],
   "source": []
  }
 ],
 "metadata": {
  "kernelspec": {
   "display_name": "Python 3",
   "language": "python",
   "name": "python3"
  },
  "language_info": {
   "codemirror_mode": {
    "name": "ipython",
    "version": 3
   },
   "file_extension": ".py",
   "mimetype": "text/x-python",
   "name": "python",
   "nbconvert_exporter": "python",
   "pygments_lexer": "ipython3",
   "version": "3.7.2"
  }
 },
 "nbformat": 4,
 "nbformat_minor": 2
}
