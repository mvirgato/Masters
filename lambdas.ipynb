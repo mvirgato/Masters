{
 "cells": [
  {
   "cell_type": "code",
   "execution_count": 1,
   "metadata": {},
   "outputs": [],
   "source": [
    "import numpy as np\n",
    "from scipy import integrate\n",
    "import pandas as pd\n",
    "from matplotlib import pyplot as plt\n",
    "import pandas"
   ]
  },
  {
   "cell_type": "code",
   "execution_count": 4,
   "metadata": {},
   "outputs": [],
   "source": [
    "v0 = 230e3/3e8\n",
    "cs = 11.265\n",
    "cp = -0.00123756\n",
    "cv = 3.\n",
    "ca = 0.428\n",
    "ct = -0.564\n",
    "mn = 0.939\n",
    "\n",
    "def q2(mx):\n",
    "    return (4*v0**2 *mx**2)/ (1 + mx/mn)**2\n",
    "\n",
    "def q4(mx):\n",
    "    return (5.333*v0**2 *mx**2)/ (1 + mx/mn)**2\n",
    "\n",
    "def l1(mx):\n",
    "    return ((8*np.pi*(mx/0.939 + 1)**2)/ (cs**2 *q2(mx)))**0.25\n",
    "\n",
    "def l2(mx):\n",
    "    return ((8*np.pi*(mx/0.939 + 1)**2)/ (cs**2 *q2(mx)))**0.25\n",
    "\n",
    "def l3(mx):\n",
    "    return ((8*np.pi*(mx/0.939 + 1)**2)/ (cp**2 *q2(mx)*(mx/mn)**2))**0.25\n",
    "\n",
    "def l4(mx):\n",
    "    return ((32*np.pi*(mx/0.939 + 1)**2)/ (cp**2 *q4(mx)))**0.25\n",
    "\n",
    "def l5(mx):\n",
    "    return ((2*np.pi*(mx/0.939 + 1)**2)/ (cv**2 *mx**2))**0.25\n",
    "\n",
    "def l6(mx):\n",
    "    return ((8*np.pi*(mx/0.939 + 1)**2)/ (cv**2 * (4*mx**2 * v0**2 + ((mx/mn)**2 - 2*(mx/mn) -1)*q2(mx))))**0.25\n",
    "\n",
    "def l7(mx):\n",
    "    return ((8*np.pi*(mx/0.939 + 1)**2)/ (ca**2 * (4*mx**2 * v0**2 + ((mx/mn)**2 + 2*(mx/mn) -1)*q2(mx))))**0.25\n",
    "\n",
    "def l8(mx):\n",
    "    return ((np.pi*(2*mx/0.939 + 1)**2)/ (3*ca**2 *mx**2))**0.25\n",
    "\n",
    "def l9(mx):\n",
    "    return ((np.pi*(mx/0.939 + 1)**2)/ (6*ct**2 *mx**2))**0.25\n",
    "\n",
    "def l10(mx):\n",
    "    return ((2*np.pi*(mx/0.939 + 1)**2)/ (8*ct**2 * (4*mx**2 * v0**2 + ((mx/mn)**2 + 4*(mx/mn) +1)*q2(mx))))**0.25\n"
   ]
  },
  {
   "cell_type": "code",
   "execution_count": null,
   "metadata": {},
   "outputs": [],
   "source": []
  }
 ],
 "metadata": {
  "kernelspec": {
   "display_name": "Python 3",
   "language": "python",
   "name": "python3"
  },
  "language_info": {
   "codemirror_mode": {
    "name": "ipython",
    "version": 3
   },
   "file_extension": ".py",
   "mimetype": "text/x-python",
   "name": "python",
   "nbconvert_exporter": "python",
   "pygments_lexer": "ipython3",
   "version": "3.7.0"
  }
 },
 "nbformat": 4,
 "nbformat_minor": 2
}
