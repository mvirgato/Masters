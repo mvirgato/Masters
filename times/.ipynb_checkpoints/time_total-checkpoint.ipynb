{
 "cells": [
  {
   "cell_type": "code",
   "execution_count": 16,
   "metadata": {},
   "outputs": [],
   "source": [
    "import numpy as np\n",
    "from scipy import integrate\n",
    "import pandas as pd\n",
    "from matplotlib import pyplot as plt\n",
    "import glob"
   ]
  },
  {
   "cell_type": "code",
   "execution_count": 17,
   "metadata": {},
   "outputs": [],
   "source": [
    "plt.style.use('science')\n",
    "\n",
    "\n",
    "SMALL_SIZE = 9\n",
    "MEDIUM_SIZE = 10\n",
    "BIGGER_SIZE = 14\n",
    "\n",
    "plt.rc('font', size=SMALL_SIZE)          # controls default text sizes\n",
    "plt.rc('axes', titlesize=SMALL_SIZE)     # fontsize of the axes title\n",
    "plt.rc('axes', labelsize=MEDIUM_SIZE)    # fontsize of the x and y labels\n",
    "plt.rc('xtick', labelsize=SMALL_SIZE)    # fontsize of the tick labels\n",
    "plt.rc('ytick', labelsize=SMALL_SIZE)    # fontsize of the tick labels\n",
    "plt.rc('legend', fontsize=8)    # legend fontsize\n",
    "# plt.rc('legend', titlesize=5)\n",
    "plt.rc('figure', titlesize=BIGGER_SIZE)  # fontsize of the figure title"
   ]
  },
  {
   "cell_type": "code",
   "execution_count": 18,
   "metadata": {},
   "outputs": [],
   "source": [
    "coloursk = ['#003f5c','#bc5090' ,'#ffa600']\n",
    "coloursa = ['#003f5c','#7a5195' ,'#ef5675', '#ffa600']\n",
    "# colours = ['#ebe831','#ffae2f' ,'#ff725c']\n",
    "leg_labelsk = ['$T_\\\\text{kin}^\\infty$ = 100K', '$T_\\\\text{kin}^\\infty$ = 1000K' , '$T_\\\\text{kin}^\\infty$ = 1880K']\n",
    "leg_labelsa = ['$T_\\\\text{kin}^\\infty$ = 100K', '$T_\\\\text{kin}^\\infty$ = 1000K' , '$T_\\\\text{kin}^\\infty$ = 1880K', '$T_\\\\text{kin}^\\infty$ = 2440K']\n",
    "lss = [':','-', '--', '-.']"
   ]
  },
  {
   "cell_type": "code",
   "execution_count": 19,
   "metadata": {},
   "outputs": [],
   "source": [
    "kheatfiles = glob.glob('*_kinheat_tt.dat')\n",
    "files_eq_ahfd = glob.glob('*CA_eq_time_AHFD.dat')\n",
    "\n",
    "kheat_data = {}\n",
    "ahfd_data = {}\n",
    "\n",
    "for file in kheatfiles:\n",
    "    kheat_data[file.replace('_kinheat_tt.dat', '')] = pd.read_csv(file, sep=\"\\t\", header = None)\n",
    "    \n",
    "\n",
    "for file in files_eq_ahfd:\n",
    "    ahfd_data[file.replace('CA_eq_time_AHFD.dat', '')] = pd.read_csv(file, sep=\"\\t\", header = None)\n"
   ]
  },
  {
   "cell_type": "code",
   "execution_count": 20,
   "metadata": {},
   "outputs": [
    {
     "data": {
      "text/plain": [
       "[]"
      ]
     },
     "execution_count": 20,
     "metadata": {},
     "output_type": "execute_result"
    }
   ],
   "source": [
    "kheatfiles"
   ]
  },
  {
   "cell_type": "code",
   "execution_count": null,
   "metadata": {},
   "outputs": [],
   "source": []
  },
  {
   "cell_type": "code",
   "execution_count": null,
   "metadata": {},
   "outputs": [],
   "source": [
    "fig, ax = plt.subplots(2, 2, figsize = (6,5), dpi = 300 , sharex = True)\n",
    "fig.subplots_adjust(hspace=0, wspace=0.08)\n",
    "\n",
    "ax[0,0].plot(, eos_data[[names[1]]], color = '#006a9c')\n",
    "ax[0,0].set_ylabel('$M_\\star$ [$M_\\odot$]')\n",
    "ax[0,0].grid(b=True, which='major',  linestyle='--', alpha=0.2)\n",
    "ax[0,0].axvline(11.6, color = 'black', alpha = 0.3, linestyle = '--')\n",
    "\n",
    "# # ax[0,1].plot(eos_data[[names[0]]], eos_data[[names[3]]], color = '#f0bc02')\n",
    "# # ax[0,1].plot(eos_data[[names[0]]], eos_data[[names[4]]], color = '#43b859')\n",
    "# # ax[0,1].plot(eos_data[[names[0]]], eos_data[[names[5]]], color = '#0097a1')\n",
    "# ax[0,1].plot(eos_data[[names[0]]], eos_data[[names[6]]], color = '#006a9c')\n",
    "# # ax[0,1].set_yscale('log')\n",
    "# ax[0,1].set_ylabel('$Y_n$')\n",
    "# ax[0,1].axvline(11.6, color = 'black', alpha = 0.3, linestyle = ':')\n",
    "# ax[0,1].yaxis.set_label_position(\"right\")\n",
    "# ax[0,1].yaxis.tick_right()\n",
    "\n",
    "ax[0,1].plot(Bdat[[0]], Bdat[[1]])\n",
    "ax[0,1].set_ylabel('$B$')\n",
    "ax[0,1].axvline(11.6, color = 'black', alpha = 0.3, linestyle = '--')\n",
    "ax[0,1].grid(b=True, which='major',  linestyle='--', alpha=0.2)\n",
    "ax[0,1].yaxis.set_label_position(\"right\")\n",
    "ax[0,1].yaxis.tick_right()\n",
    "\n",
    "ax[1,0].plot(eos_data[[names[0]]], eos_data[[names[7]]], color = '#006a9c')\n",
    "ax[1,0].axvline(11.6, color = 'black', alpha = 0.3, linestyle = '--')\n",
    "ax[1,0].grid(b=True, which='major',  linestyle='--', alpha=0.2)\n",
    "ax[1,0].set_yscale('log')\n",
    "ax[1,0].set_ylabel('$\\mu_{F,n}$ [MeV]')\n",
    "ax[1,0].set_xlabel('$r$ [km]')\n",
    "ax[1,0].set_xlim(0, 12.7)"
   ]
  }
 ],
 "metadata": {
  "kernelspec": {
   "display_name": "Python 3",
   "language": "python",
   "name": "python3"
  },
  "language_info": {
   "codemirror_mode": {
    "name": "ipython",
    "version": 3
   },
   "file_extension": ".py",
   "mimetype": "text/x-python",
   "name": "python",
   "nbconvert_exporter": "python",
   "pygments_lexer": "ipython3",
   "version": "3.7.0"
  }
 },
 "nbformat": 4,
 "nbformat_minor": 2
}
